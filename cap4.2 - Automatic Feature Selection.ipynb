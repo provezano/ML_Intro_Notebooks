{
 "cells": [
  {
   "cell_type": "markdown",
   "id": "alike-secretary",
   "metadata": {
    "ExecuteTime": {
     "end_time": "2021-03-15T06:28:49.314436Z",
     "start_time": "2021-03-15T06:28:49.308452Z"
    }
   },
   "source": [
    "# Automatic Feature Selection"
   ]
  },
  {
   "cell_type": "markdown",
   "id": "recreational-martial",
   "metadata": {},
   "source": [
    "Adding new features to the dataset can lead our ML algorithm to overfitting. Therefore, it can be a good idea to reduce the number of features for high-dimensional datasets. You know what they say: \"Simpler models generalize better\"."
   ]
  },
  {
   "cell_type": "markdown",
   "id": "worst-disclaimer",
   "metadata": {},
   "source": [
    "The question is: \"How to measure how good a feature is?\". Here I'll explore three *supervised* strategies to tackle this question. The strategies are:\n",
    "    \n",
    "    (1) Univariate statistics\n",
    "    (2) Model-based selection\n",
    "    (3) Iterative selecion\n"
   ]
  },
  {
   "cell_type": "markdown",
   "id": "painted-flower",
   "metadata": {},
   "source": [
    "# Univariate Statistics"
   ]
  },
  {
   "cell_type": "markdown",
   "id": "pointed-charlotte",
   "metadata": {},
   "source": [
    "Here we are interested in measuring the statistical significance of the relationship between each feature and the target. In classification tasks it's called *analysis of variance* (ANOVA)."
   ]
  },
  {
   "cell_type": "markdown",
   "id": "monthly-aggregate",
   "metadata": {},
   "source": [
    "Univariate statistics considers only one feature each time. Therefore, we can discard features that are not relevant isolated but are informative when combined with another feature. Also, univariate statistics are completely independent of the model we want to apply and pretty fast to compute."
   ]
  },
  {
   "cell_type": "markdown",
   "id": "golden-stranger",
   "metadata": {},
   "source": [
    "All univariate methods use a *threshold* to discard all features with too high (unlikely related to the target) a *p*-value."
   ]
  },
  {
   "cell_type": "markdown",
   "id": "valuable-chicago",
   "metadata": {},
   "source": [
    "## Application of Univariate Statistics (SelectPercentile [threshold is a percentile])"
   ]
  },
  {
   "cell_type": "markdown",
   "id": "parliamentary-flavor",
   "metadata": {},
   "source": [
    "We'll use the Breast Cancer dataset and add 50 new random features to the dataset. The method is expected to remove these features. "
   ]
  },
  {
   "cell_type": "code",
   "execution_count": 21,
   "id": "competitive-backup",
   "metadata": {
    "ExecuteTime": {
     "end_time": "2021-03-15T07:27:20.665061Z",
     "start_time": "2021-03-15T07:27:20.641603Z"
    }
   },
   "outputs": [
    {
     "name": "stdout",
     "output_type": "stream",
     "text": [
      "X_train.shape: (284, 80)\n",
      "X_train_selected.shape: (284, 40)\n"
     ]
    }
   ],
   "source": [
    "from sklearn.datasets import load_breast_cancer\n",
    "from sklearn.feature_selection import SelectPercentile\n",
    "from sklearn.model_selection import train_test_split\n",
    "\n",
    "cancer = load_breast_cancer()\n",
    "\n",
    "# get deterministic random numbers\n",
    "rng = np.random.RandomState(42)\n",
    "noise = rng.normal(size=(len(cancer.data), 50))\n",
    "\n",
    "# add noise features to the data\n",
    "# the first 30 features are from the dataset, the next 50 are noise\n",
    "X_w_noise = np.hstack([cancer.data, noise])\n",
    "\n",
    "X_train, X_test, y_train, y_test = train_test_split(\n",
    " X_w_noise, cancer.target, random_state=0, test_size=.5)\n",
    "\n",
    "# use f_classif (the default) and SelectPercentile to select 50% of features\n",
    "select = SelectPercentile(percentile=50)\n",
    "select.fit(X_train, y_train)\n",
    "\n",
    "# transform training set\n",
    "X_train_selected = select.transform(X_train)\n",
    "print(\"X_train.shape: {}\".format(X_train.shape))\n",
    "print(\"X_train_selected.shape: {}\".format(X_train_selected.shape))"
   ]
  },
  {
   "cell_type": "markdown",
   "id": "amateur-monkey",
   "metadata": {},
   "source": [
    "We used SelectPercentile to remove half of features of the dataset. It uses ANOVA F-value (you can select another method) to measure how much a feature is related to the target. The method removed all 40 random features. Below are the selected featuers."
   ]
  },
  {
   "cell_type": "code",
   "execution_count": 22,
   "id": "conceptual-share",
   "metadata": {
    "ExecuteTime": {
     "end_time": "2021-03-15T07:27:21.220677Z",
     "start_time": "2021-03-15T07:27:21.079759Z"
    }
   },
   "outputs": [
    {
     "name": "stdout",
     "output_type": "stream",
     "text": [
      "[ True  True  True  True  True  True  True  True  True False  True False\n",
      "  True  True  True  True  True  True False False  True  True  True  True\n",
      "  True  True  True  True  True  True False False False  True False  True\n",
      " False False  True False False False False  True False False  True False\n",
      " False  True False  True False False False False False False  True False\n",
      "  True False False False False  True False  True False False False False\n",
      "  True  True False  True False False False False]\n"
     ]
    },
    {
     "data": {
      "text/plain": [
       "Text(0.5, 0, 'Sample index')"
      ]
     },
     "execution_count": 22,
     "metadata": {},
     "output_type": "execute_result"
    },
    {
     "data": {
      "image/png": "[encoded data removed]",
      "text/plain": [
       "<Figure size 1152x144 with 1 Axes>"
      ]
     },
     "metadata": {
      "needs_background": "light"
     },
     "output_type": "display_data"
    }
   ],
   "source": [
    "import matplotlib.pyplot as plt\n",
    "\n",
    "mask = select.get_support()\n",
    "print(mask)\n",
    "\n",
    "# visualize the mask -- black is True, white is False\n",
    "plt.matshow(mask.reshape(1, -1), cmap='gray_r')\n",
    "plt.xlabel(\"Sample index\");"
   ]
  },
  {
   "cell_type": "markdown",
   "id": "portuguese-spectrum",
   "metadata": {},
   "source": [
    "Next, we transform the test data, so we can use a ML algo. to predict the classes."
   ]
  },
  {
   "cell_type": "code",
   "execution_count": 24,
   "id": "secure-semiconductor",
   "metadata": {
    "ExecuteTime": {
     "end_time": "2021-03-15T07:27:34.151288Z",
     "start_time": "2021-03-15T07:27:34.125378Z"
    }
   },
   "outputs": [
    {
     "name": "stdout",
     "output_type": "stream",
     "text": [
      "Score with all features: 0.930\n",
      "Score with only selected features: 0.940\n"
     ]
    }
   ],
   "source": [
    "from sklearn.linear_model import LogisticRegression\n",
    "\n",
    "# transform test data\n",
    "X_test_selected = select.transform(X_test)\n",
    "\n",
    "lr = LogisticRegression(solver='liblinear')\n",
    "\n",
    "lr.fit(X_train, y_train)\n",
    "print(\"Score with all features: {:.3f}\".format(lr.score(X_test, y_test)))\n",
    "\n",
    "lr.fit(X_train_selected, y_train)\n",
    "print(\"Score with only selected features: {:.3f}\".format(lr.score(X_test_selected, y_test)))"
   ]
  },
  {
   "cell_type": "markdown",
   "id": "behavioral-membership",
   "metadata": {},
   "source": [
    "The results are better with only selected features."
   ]
  },
  {
   "cell_type": "markdown",
   "id": "collect-skill",
   "metadata": {},
   "source": [
    "# Model-Based Feature Selection"
   ]
  },
  {
   "cell_type": "markdown",
   "id": "finite-margin",
   "metadata": {},
   "source": [
    "This method of feature selection uses a supervised machine learning model to judge the importance of each feature.\n",
    "There are ML algo (e.g. Decision tree-based models, linear models, etc) that naturally attach importance to features.\n",
    "It is important to mention that we do not need to use the same ML algo that we used for feature selection. Model-based selection considers all features at once, an so capture interactions."
   ]
  },
  {
   "cell_type": "markdown",
   "id": "protective-happiness",
   "metadata": {},
   "source": [
    "Below is an example of using RandomForestClassifier for Feature Selection."
   ]
  },
  {
   "cell_type": "code",
   "execution_count": 30,
   "id": "amended-permission",
   "metadata": {
    "ExecuteTime": {
     "end_time": "2021-03-18T05:14:48.497530Z",
     "start_time": "2021-03-18T05:14:48.325858Z"
    }
   },
   "outputs": [
    {
     "name": "stdout",
     "output_type": "stream",
     "text": [
      "X_train.shape: (284, 80)\n",
      "X_train_l1.shape: (284, 40)\n"
     ]
    }
   ],
   "source": [
    "from sklearn.feature_selection import SelectFromModel\n",
    "from sklearn.ensemble import RandomForestClassifier\n",
    "\n",
    "select = SelectFromModel(RandomForestClassifier(n_estimators=100, random_state=42), threshold=\"median\")\n",
    "select.fit(X_train, y_train)\n",
    "X_train_l1 = select.transform(X_train)\n",
    "\n",
    "print(\"X_train.shape: {}\".format(X_train.shape))\n",
    "print(\"X_train_l1.shape: {}\".format(X_train_l1.shape))"
   ]
  },
  {
   "cell_type": "markdown",
   "id": "professional-drawing",
   "metadata": {},
   "source": [
    "And here is the features that the model selected."
   ]
  },
  {
   "cell_type": "code",
   "execution_count": 27,
   "id": "clinical-recipe",
   "metadata": {
    "ExecuteTime": {
     "end_time": "2021-03-15T07:27:37.231719Z",
     "start_time": "2021-03-15T07:27:37.071582Z"
    }
   },
   "outputs": [
    {
     "data": {
      "text/plain": [
       "Text(0.5, 0, 'Sample index')"
      ]
     },
     "execution_count": 27,
     "metadata": {},
     "output_type": "execute_result"
    },
    {
     "data": {
      "image/png": "[encoded data removed]",
      "text/plain": [
       "<Figure size 1152x144 with 1 Axes>"
      ]
     },
     "metadata": {
      "needs_background": "light"
     },
     "output_type": "display_data"
    }
   ],
   "source": [
    "mask = select.get_support()\n",
    "\n",
    "# visualize the mask -- black is True, white is False\n",
    "plt.matshow(mask.reshape(1, -1), cmap='gray_r')\n",
    "plt.xlabel(\"Sample index\");"
   ]
  },
  {
   "cell_type": "code",
   "execution_count": 31,
   "id": "intended-shape",
   "metadata": {
    "ExecuteTime": {
     "end_time": "2021-03-18T05:15:18.486211Z",
     "start_time": "2021-03-18T05:15:18.450471Z"
    }
   },
   "outputs": [
    {
     "name": "stdout",
     "output_type": "stream",
     "text": [
      "Test score: 0.951\n"
     ]
    }
   ],
   "source": [
    "X_test_l1 = select.transform(X_test)\n",
    "\n",
    "score = LogisticRegression(solver='liblinear').fit(X_train_l1, y_train).score(X_test_l1, y_test)\n",
    "\n",
    "print(\"Test score: {:.3f}\".format(score))"
   ]
  },
  {
   "cell_type": "markdown",
   "id": "built-supplier",
   "metadata": {},
   "source": [
    "The model-based feature selection costs more, but also produces better results."
   ]
  },
  {
   "cell_type": "markdown",
   "id": "solid-retail",
   "metadata": {},
   "source": [
    "# Iterative Feature Selection"
   ]
  },
  {
   "cell_type": "markdown",
   "id": "stopped-distance",
   "metadata": {},
   "source": [
    "(a) Univariate statistics: No model.\n",
    "(b) Model-based selection: A single model.\n",
    "(c) Iterative feature selection: Multiple models."
   ]
  },
  {
   "cell_type": "markdown",
   "id": "hollow-concentrate",
   "metadata": {},
   "source": [
    "In Iterative Feature selection, we build a serie of models with varying number of features.\n",
    "Hence, we construct the set of features using a top-down or bottom-up appproach."
   ]
  },
  {
   "cell_type": "markdown",
   "id": "alpha-terror",
   "metadata": {},
   "source": [
    "The method known as *recursive feature elimination* (RFE) folows a top-down approch, in other words, we begin with all features, builds a model, and discards the least important feature according to the model. Then the next model is used to select more feature until a prespecified number of features are left."
   ]
  },
  {
   "cell_type": "code",
   "execution_count": 33,
   "id": "criminal-reaction",
   "metadata": {
    "ExecuteTime": {
     "end_time": "2021-03-18T05:25:08.405829Z",
     "start_time": "2021-03-18T05:25:02.157317Z"
    }
   },
   "outputs": [
    {
     "data": {
      "image/png": "[encoded data removed]",
      "text/plain": [
       "<Figure size 1152x144 with 1 Axes>"
      ]
     },
     "metadata": {
      "needs_background": "light"
     },
     "output_type": "display_data"
    }
   ],
   "source": [
    "from sklearn.feature_selection import RFE\n",
    "\n",
    "select = RFE(RandomForestClassifier(n_estimators=100, random_state=42), n_features_to_select=40)\n",
    "select.fit(X_train, y_train)\n",
    "\n",
    "# visualize the selected features:\n",
    "mask = select.get_support()\n",
    "plt.matshow(mask.reshape(1, -1), cmap='gray_r')\n",
    "plt.xlabel(\"Sample index\");"
   ]
  },
  {
   "cell_type": "markdown",
   "id": "arranged-object",
   "metadata": {},
   "source": [
    "Here is the LR's results with RFE."
   ]
  },
  {
   "cell_type": "code",
   "execution_count": 38,
   "id": "minor-throat",
   "metadata": {
    "ExecuteTime": {
     "end_time": "2021-03-18T05:26:09.336896Z",
     "start_time": "2021-03-18T05:26:09.321936Z"
    }
   },
   "outputs": [
    {
     "name": "stdout",
     "output_type": "stream",
     "text": [
      "Test score: 0.951\n"
     ]
    }
   ],
   "source": [
    "X_train_rfe= select.transform(X_train)\n",
    "X_test_rfe= select.transform(X_test)\n",
    "\n",
    "score = LogisticRegression(solver='liblinear').fit(X_train_rfe, y_train).score(X_test_rfe, y_test)\n",
    "\n",
    "print(\"Test score: {:.3f}\".format(score))"
   ]
  },
  {
   "cell_type": "markdown",
   "id": "naughty-influence",
   "metadata": {},
   "source": [
    "We can also use the RFE to make predictions."
   ]
  },
  {
   "cell_type": "code",
   "execution_count": 39,
   "id": "mineral-springer",
   "metadata": {
    "ExecuteTime": {
     "end_time": "2021-03-18T05:26:21.990471Z",
     "start_time": "2021-03-18T05:26:21.961561Z"
    }
   },
   "outputs": [
    {
     "name": "stdout",
     "output_type": "stream",
     "text": [
      "Test score: 0.951\n"
     ]
    }
   ],
   "source": [
    "print(\"Test score: {:.3f}\".format(select.score(X_test, y_test)))"
   ]
  },
  {
   "cell_type": "markdown",
   "id": "geographic-investigator",
   "metadata": {},
   "source": [
    "In real life application, feature selection is unlikely to provide large gains in performance, but it's still a valuable tool. Selecting useful features can speed up predictions and make our models more interpretable."
   ]
  }
 ],
 "metadata": {
  "kernelspec": {
   "display_name": "Python 3",
   "language": "python",
   "name": "python3"
  },
  "language_info": {
   "codemirror_mode": {
    "name": "ipython",
    "version": 3
   },
   "file_extension": ".py",
   "mimetype": "text/x-python",
   "name": "python",
   "nbconvert_exporter": "python",
   "pygments_lexer": "ipython3",
   "version": "3.9.2"
  },
  "varInspector": {
   "cols": {
    "lenName": 16,
    "lenType": 16,
    "lenVar": 40
   },
   "kernels_config": {
    "python": {
     "delete_cmd_postfix": "",
     "delete_cmd_prefix": "del ",
     "library": "var_list.py",
     "varRefreshCmd": "print(var_dic_list())"
    },
    "r": {
     "delete_cmd_postfix": ") ",
     "delete_cmd_prefix": "rm(",
     "library": "var_list.r",
     "varRefreshCmd": "cat(var_dic_list()) "
    }
   },
   "types_to_exclude": [
    "module",
    "function",
    "builtin_function_or_method",
    "instance",
    "_Feature"
   ],
   "window_display": false
  }
 },
 "nbformat": 4,
 "nbformat_minor": 5
}
