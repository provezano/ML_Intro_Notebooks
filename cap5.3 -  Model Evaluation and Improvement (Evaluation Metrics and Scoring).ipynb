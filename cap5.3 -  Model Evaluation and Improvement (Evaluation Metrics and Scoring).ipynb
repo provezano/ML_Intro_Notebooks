{
 "cells": [
  {
   "cell_type": "markdown",
   "id": "subsequent-gardening",
   "metadata": {},
   "source": [
    "# Evaluation Metrics and Scoring"
   ]
  },
  {
   "cell_type": "markdown",
   "id": "mobile-concrete",
   "metadata": {},
   "source": [
    "So far, we've used accuracy and R^2 for evaluating the performance of classifiers and regressors, respectively.\n",
    "But, in practice, these evaluation metrics might not be appropriate for your application. Therefore, its important to select\n",
    "the metric that fit our goal."
   ]
  },
  {
   "cell_type": "markdown",
   "id": "strange-mason",
   "metadata": {},
   "source": [
    "## Keep the End Goal in Mind"
   ]
  },
  {
   "cell_type": "markdown",
   "id": "cellular-cherry",
   "metadata": {},
   "source": [
    "When selecting a metric, we should keep the end goal of the ML application in mind."
   ]
  },
  {
   "cell_type": "code",
   "execution_count": null,
   "id": "incomplete-cornwall",
   "metadata": {},
   "outputs": [],
   "source": []
  }
 ],
 "metadata": {
  "kernelspec": {
   "display_name": "Python 3",
   "language": "python",
   "name": "python3"
  },
  "language_info": {
   "codemirror_mode": {
    "name": "ipython",
    "version": 3
   },
   "file_extension": ".py",
   "mimetype": "text/x-python",
   "name": "python",
   "nbconvert_exporter": "python",
   "pygments_lexer": "ipython3",
   "version": "3.9.2"
  },
  "varInspector": {
   "cols": {
    "lenName": 16,
    "lenType": 16,
    "lenVar": 40
   },
   "kernels_config": {
    "python": {
     "delete_cmd_postfix": "",
     "delete_cmd_prefix": "del ",
     "library": "var_list.py",
     "varRefreshCmd": "print(var_dic_list())"
    },
    "r": {
     "delete_cmd_postfix": ") ",
     "delete_cmd_prefix": "rm(",
     "library": "var_list.r",
     "varRefreshCmd": "cat(var_dic_list()) "
    }
   },
   "types_to_exclude": [
    "module",
    "function",
    "builtin_function_or_method",
    "instance",
    "_Feature"
   ],
   "window_display": false
  }
 },
 "nbformat": 4,
 "nbformat_minor": 5
}
