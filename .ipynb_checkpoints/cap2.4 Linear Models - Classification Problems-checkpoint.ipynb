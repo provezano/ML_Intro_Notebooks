{
 "cells": [
  {
   "cell_type": "markdown",
   "metadata": {},
   "source": [
    "# Linear Models for Classification Problems"
   ]
  },
  {
   "cell_type": "markdown",
   "metadata": {},
   "source": [
    "At this time, we are also interested in linear models, but now for solving classification problems.\n",
    "\n",
    "Linear Models for classification assumes the following format:\n",
    "\n",
    "y_hat = w[0]*x[0] + ... + w[p]*x[p] + b > 0\n",
    "\n",
    "in which, y_hat is the predicted target value, p is the number of features, w and b are the set of parameters (slope and error, respectively) and x is the set of features. The role of a ML algorithm is to identify optimal values for each w[p].\n",
    "\n",
    "When y_hat < 0, we predict the class -1 and when y > 0 we predict 1. Here, the decision boundary is a linear function of the input."
   ]
  },
  {
   "cell_type": "markdown",
   "metadata": {},
   "source": [
    "## Examples with the Wisconsin dataset"
   ]
  },
  {
   "cell_type": "code",
   "execution_count": 23,
   "metadata": {},
   "outputs": [],
   "source": [
    "import numpy as np\n",
    "import matplotlib.pyplot as plt\n",
    "from sklearn.datasets import load_breast_cancer\n",
    "from sklearn.model_selection import train_test_split\n",
    "from sklearn.linear_model import LogisticRegression"
   ]
  },
  {
   "cell_type": "code",
   "execution_count": 7,
   "metadata": {},
   "outputs": [],
   "source": [
    "cancer = load_breast_cancer()\n",
    "X,y = cancer.data, cancer.target"
   ]
  },
  {
   "cell_type": "code",
   "execution_count": 8,
   "metadata": {},
   "outputs": [],
   "source": [
    "X_train, X_test, y_train, y_test = train_test_split(X, y, random_state=42)"
   ]
  },
  {
   "cell_type": "markdown",
   "metadata": {},
   "source": [
    "### LogisticRegression"
   ]
  },
  {
   "cell_type": "code",
   "execution_count": 19,
   "metadata": {},
   "outputs": [],
   "source": [
    "logreg = LogisticRegression(max_iter=5000).fit(X_train, y_train)"
   ]
  },
  {
   "cell_type": "code",
   "execution_count": 20,
   "metadata": {},
   "outputs": [
    {
     "name": "stdout",
     "output_type": "stream",
     "text": [
      "Training set score: 0.96\n",
      "Test set score: 0.97\n"
     ]
    }
   ],
   "source": [
    "print(\"Training set score: {:.2f}\".format(logreg.score(X_train, y_train)))\n",
    "print(\"Test set score: {:.2f}\".format(logreg.score(X_test, y_test)))"
   ]
  },
  {
   "cell_type": "markdown",
   "metadata": {},
   "source": [
    "Although 0.97 is a good performance, training and test set scores are very close. This can be an indication of underfitting. Therefore, we should try to adjust the bias-variance trade-off. We can do this by changing the parameter C. Higher values for C, corresponds to less regularization."
   ]
  },
  {
   "cell_type": "code",
   "execution_count": 53,
   "metadata": {
    "scrolled": false
   },
   "outputs": [
    {
     "data": {
      "image/png": "[encoded data removed]",
      "text/plain": [
       "<Figure size 432x288 with 1 Axes>"
      ]
     },
     "metadata": {
      "needs_background": "light"
     },
     "output_type": "display_data"
    }
   ],
   "source": [
    "training_r2 = []\n",
    "test_r2 = []\n",
    "\n",
    "alpha_range = [round (x,4) for x in np.linspace(0.001, 100, 10).reshape(-1, 1).ravel().tolist()]\n",
    "\n",
    "for alpha in alpha_range:\n",
    "    clf = LogisticRegression(C=alpha, max_iter=5000, n_jobs=-1)\n",
    "    clf.fit(X_train, y_train)\n",
    "    training_r2.append(clf.score(X_train, y_train))\n",
    "    test_r2.append(clf.score(X_test, y_test))\n",
    "\n",
    "plt.plot(alpha_range, training_r2, label=\"training r2 score\")\n",
    "plt.plot(alpha_range, test_r2, label=\"test r2 score\")\n",
    "plt.ylabel(\"R2 score\")\n",
    "plt.xlabel(\"n_neighbors\")\n",
    "plt.legend();"
   ]
  },
  {
   "cell_type": "code",
   "execution_count": 58,
   "metadata": {
    "scrolled": true
   },
   "outputs": [
    {
     "name": "stdout",
     "output_type": "stream",
     "text": [
      "Training set score: 0.977\n",
      "Test set score: 0.965\n"
     ]
    }
   ],
   "source": [
    "logreg = LogisticRegression(C=100, max_iter=5000).fit(X_train, y_train)\n",
    "print(\"Training set score: {:.3f}\".format(logreg.score(X_train, y_train)))\n",
    "print(\"Test set score: {:.3f}\".format(logreg.score(X_test, y_test)))"
   ]
  },
  {
   "cell_type": "markdown",
   "metadata": {},
   "source": [
    "As expected, with less regularization we found a better (linear) model. It's also interesting to point out that, it is possible to use L1 regularization in LogisticRegression. Therefore, we can induce models that uses only a subset of the original features."
   ]
  },
  {
   "cell_type": "code",
   "execution_count": 73,
   "metadata": {},
   "outputs": [
    {
     "name": "stdout",
     "output_type": "stream",
     "text": [
      "Training set score: 0.988\n",
      "Test set score: 0.972\n"
     ]
    }
   ],
   "source": [
    "logreg = LogisticRegression(C=100, penalty='l1', solver ='liblinear', max_iter=5000).fit(X_train, y_train)\n",
    "print(\"Training set score: {:.3f}\".format(logreg.score(X_train, y_train)))\n",
    "print(\"Test set score: {:.3f}\".format(logreg.score(X_test, y_test)))"
   ]
  },
  {
   "cell_type": "code",
   "execution_count": 75,
   "metadata": {},
   "outputs": [
    {
     "name": "stdout",
     "output_type": "stream",
     "text": [
      "\n",
      "Number of features (original): 30\n",
      "Number of features used: 21\n"
     ]
    }
   ],
   "source": [
    "print(\"\\nNumber of features (original): {}\".format(X.shape[1]))\n",
    "print(\"Number of features used: {}\".format(np.sum(logreg.coef_ != 0)))"
   ]
  },
  {
   "cell_type": "markdown",
   "metadata": {},
   "source": [
    "LogisticRegression with L1 regularization uses only 21 of 30 features, while providing a higher accuracy."
   ]
  }
 ],
 "metadata": {
  "kernelspec": {
   "display_name": "Python 3",
   "language": "python",
   "name": "python3"
  },
  "language_info": {
   "codemirror_mode": {
    "name": "ipython",
    "version": 3
   },
   "file_extension": ".py",
   "mimetype": "text/x-python",
   "name": "python",
   "nbconvert_exporter": "python",
   "pygments_lexer": "ipython3",
   "version": "3.8.5"
  }
 },
 "nbformat": 4,
 "nbformat_minor": 4
}
