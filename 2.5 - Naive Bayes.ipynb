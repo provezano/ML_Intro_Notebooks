{
 "cells": [
  {
   "cell_type": "markdown",
   "metadata": {},
   "source": [
    "# Naive Bayes"
   ]
  },
  {
   "cell_type": "markdown",
   "metadata": {},
   "source": [
    "Very efficient classifier, but usually slightly worse than linear models.\n",
    "This efficiency comes from the mechanics Naive Bayes adopt to induce a model from data.\n",
    "It looks at each feature in particular (as it was independent) and collect simple per-class stats."
   ]
  },
  {
   "cell_type": "markdown",
   "metadata": {},
   "source": [
    "In sci-kit library, there are three main implementations of Naive Bayes: (1) GaussianNB; (2) BernoulliNB and (3) MultinomialNB. They are applied to continuous data, binary data and count data, respectivelly."
   ]
  },
  {
   "cell_type": "markdown",
   "metadata": {},
   "source": [
    "## BernoulliNB"
   ]
  },
  {
   "cell_type": "code",
   "execution_count": 2,
   "metadata": {
    "ExecuteTime": {
     "end_time": "2020-12-19T18:37:53.796088Z",
     "start_time": "2020-12-19T18:37:53.662661Z"
    }
   },
   "outputs": [],
   "source": [
    "import numpy as np"
   ]
  },
  {
   "cell_type": "markdown",
   "metadata": {},
   "source": [
    "counts how often every feature of each class is not zero."
   ]
  },
  {
   "cell_type": "code",
   "execution_count": 3,
   "metadata": {
    "ExecuteTime": {
     "end_time": "2020-12-19T18:37:55.084134Z",
     "start_time": "2020-12-19T18:37:55.081005Z"
    }
   },
   "outputs": [],
   "source": [
    "X = np.array([[0, 1, 0, 1],\n",
    " [1, 0, 1, 1],\n",
    " [0, 0, 0, 1],\n",
    " [1, 0, 1, 0]])\n",
    "\n",
    "y = np.array([0, 1, 0, 1])"
   ]
  },
  {
   "cell_type": "code",
   "execution_count": 5,
   "metadata": {
    "ExecuteTime": {
     "end_time": "2020-12-19T18:39:49.315646Z",
     "start_time": "2020-12-19T18:39:49.306564Z"
    }
   },
   "outputs": [
    {
     "data": {
      "text/plain": [
       "array([[0, 1, 0, 1],\n",
       "       [1, 0, 1, 1],\n",
       "       [0, 0, 0, 1],\n",
       "       [1, 0, 1, 0]])"
      ]
     },
     "execution_count": 5,
     "metadata": {},
     "output_type": "execute_result"
    }
   ],
   "source": [
    "X"
   ]
  },
  {
   "cell_type": "code",
   "execution_count": 4,
   "metadata": {
    "ExecuteTime": {
     "end_time": "2020-12-19T18:38:59.744748Z",
     "start_time": "2020-12-19T18:38:59.740185Z"
    }
   },
   "outputs": [
    {
     "name": "stdout",
     "output_type": "stream",
     "text": [
      "Feature counts:\n",
      "{0: array([0, 1, 0, 2]), 1: array([2, 0, 2, 1])}\n"
     ]
    }
   ],
   "source": [
    "counts = {}\n",
    "for label in np.unique(y):\n",
    "    counts[label] = X[y == label].sum(axis=0)\n",
    "print(\"Feature counts:\\n{}\".format(counts))"
   ]
  },
  {
   "cell_type": "markdown",
   "metadata": {},
   "source": [
    "## Strengths, weaknesses, and parameters"
   ]
  },
  {
   "cell_type": "markdown",
   "metadata": {},
   "source": [
    "GaussianNB is used in very high-dimensional data;\n",
    "BernoulliNB and MultinomialNB are used in sparse count data;\n",
    "They are very fast and can be a base line for very large datasets;\n",
    "They are robust to parameters;\n",
    "The parameter alpha can be used to control the model complexity;\n",
    "Models are easy to interpret."
   ]
  }
 ],
 "metadata": {
  "kernelspec": {
   "display_name": "Python [conda env:dsp] *",
   "language": "python",
   "name": "conda-env-dsp-py"
  },
  "language_info": {
   "codemirror_mode": {
    "name": "ipython",
    "version": 3
   },
   "file_extension": ".py",
   "mimetype": "text/x-python",
   "name": "python",
   "nbconvert_exporter": "python",
   "pygments_lexer": "ipython3",
   "version": "3.8.5"
  }
 },
 "nbformat": 4,
 "nbformat_minor": 4
}
